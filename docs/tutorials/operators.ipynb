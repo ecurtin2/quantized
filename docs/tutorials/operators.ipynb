{
 "cells": [
  {
   "cell_type": "markdown",
   "metadata": {},
   "source": [
    "\n",
    "## Operator Definitions\n",
    "\n",
    "`quantized` defines a set of commonly used quantum mechanical operators. These\n",
    "can be used to find the solution to the schroedinger equation, or to simply\n",
    "find the expectation value of an operator for a given state. "
   ]
  },
  {
   "cell_type": "code",
   "execution_count": 1,
   "metadata": {},
   "outputs": [],
   "source": [
    "import numpy as np\n",
    "np.set_printoptions(precision=4, suppress=True)\n",
    "\n",
    "from quantized.basis import HarmonicOscillator\n",
    "from quantized import operators as op"
   ]
  },
  {
   "cell_type": "markdown",
   "metadata": {},
   "source": [
    "All operators are defined such that `Operator()(state_1, state_2)` is equal to $\\langle {state}_1 | \\hat{O} | {state}_2 \\rangle$\n",
    "\n",
    "\n",
    "## Overlap \n",
    "\n",
    "The most commonly used operator is the overlap operator. By default, the overlap\n",
    "operator will work on one dimensional functions and will integrate over $-\\infty$ to $+\\infty$. \n",
    "Since the harmonic oscillators are also functions, we can simply use the overlap operator\n",
    "to find the overlap of the harmonic oscillators."
   ]
  },
  {
   "cell_type": "code",
   "execution_count": 2,
   "metadata": {},
   "outputs": [
    {
     "data": {
      "text/plain": [
       "1.0"
      ]
     },
     "execution_count": 2,
     "metadata": {},
     "output_type": "execute_result"
    }
   ],
   "source": [
    "ho = HarmonicOscillator(center=0.0, n=0)\n",
    "op.Overlap()(ho, ho)"
   ]
  },
  {
   "cell_type": "markdown",
   "metadata": {},
   "source": [
    "As expected, the overlap of a normalized harmonic oscillator wavefunction with itself is exactly 1. As a sanity check, \n",
    "we can find the overlap of two different harmonic oscillators. One for `n=1` and another for `n=0`. If we programmed\n",
    "correctly, this should be `0`, since the wave functions are orthogonal. "
   ]
  },
  {
   "cell_type": "code",
   "execution_count": 3,
   "metadata": {},
   "outputs": [
    {
     "data": {
      "text/plain": [
       "0.0"
      ]
     },
     "execution_count": 3,
     "metadata": {},
     "output_type": "execute_result"
    }
   ],
   "source": [
    "ho1 = HarmonicOscillator(center=0.0, n=1)\n",
    "\n",
    "op.Overlap()(ho, ho1)"
   ]
  },
  {
   "cell_type": "markdown",
   "metadata": {},
   "source": [
    "By now you might be wondering why the `op.Overlap()` syntax has us using an empty parenthesis. This\n",
    "is because we are free to supply the range of integration to our overlap function:"
   ]
  },
  {
   "cell_type": "code",
   "execution_count": 4,
   "metadata": {},
   "outputs": [
    {
     "data": {
      "text/plain": [
       "0.42135039647485745"
      ]
     },
     "execution_count": 4,
     "metadata": {},
     "output_type": "execute_result"
    }
   ],
   "source": [
    "op.Overlap(lower_limit=-1.0, upper_limit=0.0)(ho, ho)"
   ]
  },
  {
   "cell_type": "markdown",
   "metadata": {},
   "source": [
    "We will use this facility later to find the overlaps in each spatial region. For now, we can simply use `Overlap()` which will default\n",
    "to all space in one dimension. There are other operators that are defined similarly. \n",
    "\n",
    "## Kinetic Energy\n",
    "\n",
    "We can evaluate the kinetic energy integral of our harmonic oscillator ground state:"
   ]
  },
  {
   "cell_type": "code",
   "execution_count": 5,
   "metadata": {},
   "outputs": [
    {
     "data": {
      "text/plain": [
       "0.24999999999999933"
      ]
     },
     "execution_count": 5,
     "metadata": {},
     "output_type": "execute_result"
    }
   ],
   "source": [
    "op.Kinetic()(ho, ho)"
   ]
  },
  {
   "cell_type": "markdown",
   "metadata": {},
   "source": [
    "## Potential Energy\n",
    "\n",
    "And we can evaluate the potential energy operator. The potential operator is a bit more unique. We can pass **any** function of \n",
    "one variable to the `op.Potential` to use for our potential operator. Let's try it out by using the potential\n",
    "for the harmonic oscillator. "
   ]
  },
  {
   "cell_type": "code",
   "execution_count": 6,
   "metadata": {},
   "outputs": [
    {
     "data": {
      "text/plain": [
       "0.2500000000000006"
      ]
     },
     "execution_count": 6,
     "metadata": {},
     "output_type": "execute_result"
    }
   ],
   "source": [
    "op.Potential(ho.potential)(ho, ho)"
   ]
  },
  {
   "cell_type": "markdown",
   "metadata": {},
   "source": [
    "## Hamiltonian\n",
    "\n",
    "Observant readers will notice that the kinetic + potential energy operators, when evaluated on the ground state harmonic\n",
    "oscillator, give us the ground state energy of the harmonic oscillator. In a similar fashion to the potential operator, the \n",
    "Hamiltonian operator also takes in *any function of one variable* to use as the potential. "
   ]
  },
  {
   "cell_type": "code",
   "execution_count": 7,
   "metadata": {},
   "outputs": [
    {
     "data": {
      "text/plain": [
       "0.49999999999999994"
      ]
     },
     "execution_count": 7,
     "metadata": {},
     "output_type": "execute_result"
    }
   ],
   "source": [
    "op.Hamiltonian(ho.potential)(ho, ho)"
   ]
  },
  {
   "cell_type": "markdown",
   "metadata": {},
   "source": [
    "## Matrix Representation\n",
    "\n",
    "---\n",
    "\n",
    "As mentioned above, calling the operator on a pair of basis functions is equivalent to evaluating $\\langle {state}_1 | \\hat{O} | {state}_2 \\rangle$.\n",
    "It is common practice to convert the operator into a matrix form, by evaluating the operator on all pairwise combinations of \n",
    "some chosen basis set. All operators support this via the following syntax:"
   ]
  },
  {
   "cell_type": "code",
   "execution_count": 8,
   "metadata": {},
   "outputs": [
    {
     "data": {
      "text/plain": [
       "array([[1., 0., 0.],\n",
       "       [0., 1., 0.],\n",
       "       [0., 0., 1.]])"
      ]
     },
     "execution_count": 8,
     "metadata": {},
     "output_type": "execute_result"
    }
   ],
   "source": [
    "basis = [HarmonicOscillator(center=0.0, n=i) for i in range(3)]\n",
    "S = op.Overlap().matrix(basis)\n",
    "S"
   ]
  },
  {
   "cell_type": "code",
   "execution_count": 9,
   "metadata": {},
   "outputs": [
    {
     "data": {
      "text/plain": [
       "array([[0.25  , 0.    , 0.3536],\n",
       "       [0.    , 0.75  , 0.    ],\n",
       "       [0.3536, 0.    , 1.25  ]])"
      ]
     },
     "execution_count": 9,
     "metadata": {},
     "output_type": "execute_result"
    }
   ],
   "source": [
    "V = op.Potential(ho.potential).matrix(basis)\n",
    "V"
   ]
  },
  {
   "cell_type": "code",
   "execution_count": 10,
   "metadata": {},
   "outputs": [
    {
     "data": {
      "text/plain": [
       "array([[ 0.25  ,  0.    , -0.3536],\n",
       "       [ 0.    ,  0.75  ,  0.    ],\n",
       "       [-0.3536,  0.    ,  1.25  ]])"
      ]
     },
     "execution_count": 10,
     "metadata": {},
     "output_type": "execute_result"
    }
   ],
   "source": [
    "T = op.Kinetic().matrix(basis)\n",
    "T"
   ]
  },
  {
   "cell_type": "code",
   "execution_count": 11,
   "metadata": {},
   "outputs": [
    {
     "data": {
      "text/plain": [
       "array([[0.5, 0. , 0. ],\n",
       "       [0. , 1.5, 0. ],\n",
       "       [0. , 0. , 2.5]])"
      ]
     },
     "execution_count": 11,
     "metadata": {},
     "output_type": "execute_result"
    }
   ],
   "source": [
    "H = op.Hamiltonian(ho.potential).matrix(basis)\n",
    "H"
   ]
  },
  {
   "cell_type": "markdown",
   "metadata": {},
   "source": [
    "Observe here that the Hamiltonian matrix is diagonal in the basis of harmonic oscillator\n",
    "wave functions. The diagonal elements are the energy levels of the harmonic oscillator. "
   ]
  },
  {
   "cell_type": "markdown",
   "metadata": {},
   "source": [
    "## Equivalence of Kinetic, Hamiltonian and Potential\n",
    "\n",
    "---\n",
    "\n",
    "As a sanity check, we can evaluate that the hamiltonian matrix is the sum of the potential energy\n",
    "matrix and the kinetic energy matrix. "
   ]
  },
  {
   "cell_type": "code",
   "execution_count": 12,
   "metadata": {},
   "outputs": [
    {
     "data": {
      "text/plain": [
       "array([[0., 0., 0.],\n",
       "       [0., 0., 0.],\n",
       "       [0., 0., 0.]])"
      ]
     },
     "execution_count": 12,
     "metadata": {},
     "output_type": "execute_result"
    }
   ],
   "source": [
    "H - (T + V)"
   ]
  },
  {
   "cell_type": "markdown",
   "metadata": {},
   "source": [
    "## Overlap Matrix over portions of Space\n",
    "\n",
    "---\n",
    "\n",
    "In the probability analysis, we are often doing integrals over a subset of all space. In this operator formulation, it\n",
    "becomes very simple to do this"
   ]
  },
  {
   "cell_type": "code",
   "execution_count": 13,
   "metadata": {},
   "outputs": [
    {
     "data": {
      "text/plain": [
       "array([[ 0.5   , -0.3989,  0.    ],\n",
       "       [-0.3989,  0.5   , -0.2821],\n",
       "       [ 0.    , -0.2821,  0.5   ]])"
      ]
     },
     "execution_count": 13,
     "metadata": {},
     "output_type": "execute_result"
    }
   ],
   "source": [
    "s1 = op.Overlap(-np.inf, 0).matrix(basis)\n",
    "s1"
   ]
  },
  {
   "cell_type": "code",
   "execution_count": 14,
   "metadata": {},
   "outputs": [
    {
     "data": {
      "text/plain": [
       "array([[0.5   , 0.3989, 0.    ],\n",
       "       [0.3989, 0.5   , 0.2821],\n",
       "       [0.    , 0.2821, 0.5   ]])"
      ]
     },
     "execution_count": 14,
     "metadata": {},
     "output_type": "execute_result"
    }
   ],
   "source": [
    "s2 = op.Overlap(0, np.inf).matrix(basis)\n",
    "s2"
   ]
  },
  {
   "cell_type": "markdown",
   "metadata": {},
   "source": [
    "Here we've calculated what I've been calling the *partial overlap matrix*. s1 represents\n",
    "the overlap matrix for negative values of `x`, and s2 represents the overlap matrix\n",
    "for positive `x`. They should add up to the total overlap matrix:"
   ]
  },
  {
   "cell_type": "code",
   "execution_count": 15,
   "metadata": {},
   "outputs": [
    {
     "data": {
      "text/plain": [
       "array([[ 0.,  0., -0.],\n",
       "       [ 0., -0.,  0.],\n",
       "       [-0.,  0.,  0.]])"
      ]
     },
     "execution_count": 15,
     "metadata": {},
     "output_type": "execute_result"
    }
   ],
   "source": [
    "S - s1 - s2"
   ]
  },
  {
   "cell_type": "markdown",
   "metadata": {},
   "source": [
    "And they do!"
   ]
  },
  {
   "cell_type": "code",
   "execution_count": 16,
   "metadata": {},
   "outputs": [
    {
     "name": "stdout",
     "output_type": "stream",
     "text": [
      "0.0.2\n"
     ]
    }
   ],
   "source": [
    "from quantized import __version__\n",
    "print(__version__)"
   ]
  }
 ],
 "metadata": {
  "kernelspec": {
   "display_name": "quantized",
   "language": "python",
   "name": "quantized"
  },
  "language_info": {
   "codemirror_mode": {
    "name": "ipython",
    "version": 3
   },
   "file_extension": ".py",
   "mimetype": "text/x-python",
   "name": "python",
   "nbconvert_exporter": "python",
   "pygments_lexer": "ipython3",
   "version": "3.7.5"
  }
 },
 "nbformat": 4,
 "nbformat_minor": 4
}
